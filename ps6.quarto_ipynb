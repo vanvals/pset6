{
  "cells": [
    {
      "cell_type": "markdown",
      "metadata": {},
      "source": [
        "---\n",
        "title: \"Problem Set 6 - Waze Shiny Dashboard\"\n",
        "author: \"Peter Ganong, Maggie Shi, and Andre Oviedo\"\n",
        "date: November 23, 2024\n",
        "format: \n",
        "  pdf:\n",
        "    include-in-header: \n",
        "       text: |\n",
        "         \\usepackage{fvextra}\n",
        "         \\DefineVerbatimEnvironment{Highlighting}{Verbatim}{breaklines,commandchars=\\\\\\{\\}}\n",
        "include-before-body:\n",
        "  text: |\n",
        "    \\RecustomVerbatimEnvironment{verbatim}{Verbatim}{\n",
        "      showspaces = false,\n",
        "      showtabs = false,\n",
        "      breaksymbolleft={},\n",
        "      breaklines\n",
        "    }\n",
        "---\n",
        "\n",
        "1. **ps6:** Due Sat 23rd at 5:00PM Central. Worth 100 points (80 points from questions, 10 points for correct submission and 10 points for code style) + 10 extra credit. \n",
        "\n",
        "We use (`*`) to indicate a problem that we think might be time consuming. \n",
        "\n",
        "# Steps to submit (10 points on PS6) {-}\n",
        "\n",
        "1. \"This submission is my work alone and complies with the 30538 integrity\n",
        "policy.\" Add your initials to indicate your agreement: \\*\\*sv\\*\\*\n",
        "2. \"I have uploaded the names of anyone I worked with on the problem set **[here](https://docs.google.com/forms/d/185usrCREQaUbvAXpWhChkjghdGgmAZXA3lPWpXLLsts/edit)**\"  \\*\\*sv\\*\\* (2 point)\n",
        "3. Late coins used this pset: \\*\\*1/4\\*\\* Late coins left after submission: \\*\\*3/4\\*\\*\n",
        "\n",
        "4. Before starting the problem set, make sure to read and agree to the terms of data usage for the Waze data [here](https://canvas.uchicago.edu/courses/59054/quizzes/130617).\n",
        "\n",
        "5. Knit your `ps6.qmd` as a pdf document and name it `ps6.pdf`.\n",
        "6. Submit your `ps6.qmd`, `ps6.pdf`, `requirements.txt`, and all created folders (we will create three Shiny apps so you will have at least three additional folders) to the gradescope repo assignment (5 points).\n",
        "7. Submit `ps6.pdf` and also link your Github repo via Gradescope (5 points)\n",
        "8. Tag your submission in Gradescope. For the Code Style part (10 points) please tag the whole correspondingsection for the code style rubric.\n",
        "\n",
        "*Notes: see the [Quarto documentation (link)](https://quarto.org/docs/authoring/figures.html) for directions on inserting images into your knitted document.*\n",
        "\n",
        "*IMPORTANT: For the App portion of the PS, in case you can not arrive to the expected functional dashboard we will need to take a look at your `app.py` file. You can use the following code chunk template to \"import\" and print the content of that file. Please, don't forget to also tag the corresponding code chunk as part of your submission!*\n"
      ],
      "id": "9ada0737"
    },
    {
      "cell_type": "code",
      "metadata": {},
      "source": [
        "#| echo: false\n",
        "#| eval: false\n",
        "\n",
        "def print_file_contents(file_path):\n",
        "    \"\"\"Print contents of a file.\"\"\"\n",
        "    try:\n",
        "        with open(file_path, 'r') as f:\n",
        "            content = f.read()\n",
        "            print(\"```python\")\n",
        "            print(content)\n",
        "            print(\"```\")\n",
        "    except FileNotFoundError:\n",
        "        print(\"```python\")\n",
        "        print(f\"Error: File '{file_path}' not found\")\n",
        "        print(\"```\")\n",
        "    except Exception as e:\n",
        "        print(\"```python\") \n",
        "        print(f\"Error reading file: {e}\")\n",
        "        print(\"```\")\n",
        "\n",
        "print_file_contents(\"./top_alerts_map_byhour/app.py\") # Change accordingly"
      ],
      "id": "715ed639",
      "execution_count": null,
      "outputs": []
    },
    {
      "cell_type": "code",
      "metadata": {},
      "source": [
        "#| echo: false\n",
        "\n",
        "# Import required packages.\n",
        "import pandas as pd\n",
        "import altair as alt \n",
        "import pandas as pd\n",
        "from datetime import date\n",
        "import numpy as np\n",
        "alt.data_transformers.disable_max_rows() \n",
        "\n",
        "import json"
      ],
      "id": "67df9178",
      "execution_count": null,
      "outputs": []
    },
    {
      "cell_type": "markdown",
      "metadata": {},
      "source": [
        "# Background {-}\n",
        "\n",
        "## Data Download and Exploration (20 points){-} \n",
        "\n",
        "1. "
      ],
      "id": "d8dc5343"
    },
    {
      "cell_type": "code",
      "metadata": {},
      "source": [
        "# read in the sample data\n",
        "df_sample = pd.read_csv(\"waze_data/waze_data_sample.csv\")"
      ],
      "id": "d91ea4f2",
      "execution_count": null,
      "outputs": []
    },
    {
      "cell_type": "code",
      "metadata": {},
      "source": [
        "print(df_sample.columns)"
      ],
      "id": "93904744",
      "execution_count": null,
      "outputs": []
    },
    {
      "cell_type": "markdown",
      "metadata": {},
      "source": [
        "Variable Names/Data Types:\n",
        "\n",
        "Unnamed:0     Ordinal \n",
        "city          Nominal\n",
        "confidence    Ordinal\n",
        "nThumbsUp     Ordinal\n",
        "street        Nominal\n",
        "uuid          Ordinal\n",
        "country       Nominal\n",
        "type          Nominal\n",
        "subtype       Ordinal \n",
        "roadType      Ordinal\n",
        "reliability   Ordinal\n",
        "magvar        Ordinal   \n",
        "reportRating  Ordinal\n",
        "\n",
        "2. "
      ],
      "id": "a3f72426"
    },
    {
      "cell_type": "code",
      "metadata": {},
      "source": [
        "# read in the data\n",
        "df_full = pd.read_csv(\"waze_data/waze_data.csv\")"
      ],
      "id": "37a7e7a1",
      "execution_count": null,
      "outputs": []
    },
    {
      "cell_type": "code",
      "metadata": {},
      "source": [
        "# calculate null and not null values for each column\n",
        "null_counts = df_full.isnull().sum()\n",
        "non_null_counts = df_full.notnull().sum()\n",
        "\n",
        "# data frame for plotting\n",
        "data = pd.DataFrame({\n",
        "    'variable': df_full.columns,\n",
        "    'null_count': null_counts,\n",
        "    'non_null_count': non_null_counts\n",
        "})\n",
        "\n",
        "# melt the data\n",
        "data_melted = data.melt(\n",
        "    id_vars='variable', var_name='status', value_name='count')\n",
        "\n",
        "# Ccreate the bar chart\n",
        "alt.Chart(data_melted).mark_bar().encode(\n",
        "    x=alt.X('variable:N', title='Variable'),\n",
        "    y=alt.Y('count:Q', title='Number of Observations'),\n",
        "    color=alt.Color('status:N', scale=alt.Scale(domain=['null_count', 'non_null_count'], range=['pink', 'purple']),\n",
        "                    title='Status', legend=alt.Legend(title=\"Status\"))\n",
        ").properties(\n",
        "    title='Null vs. Non-Null Observations per Variable'\n",
        ")"
      ],
      "id": "7d33a92e",
      "execution_count": null,
      "outputs": []
    },
    {
      "cell_type": "markdown",
      "metadata": {},
      "source": [
        "nThumbsUp, street, and subtype have missing values. nThumbsUp has almost all values missing, while subtype has a much smaller number of missing values and street has a few missing values.\n",
        "\n",
        "3. "
      ],
      "id": "9af87cf1"
    },
    {
      "cell_type": "markdown",
      "metadata": {},
      "source": [
        "4. \n",
        "\n",
        "1. "
      ],
      "id": "06af191d"
    },
    {
      "cell_type": "markdown",
      "metadata": {},
      "source": [
        "2. \n"
      ],
      "id": "dd4db7d7"
    },
    {
      "cell_type": "markdown",
      "metadata": {},
      "source": [
        "3. \n"
      ],
      "id": "beb2258d"
    },
    {
      "cell_type": "markdown",
      "metadata": {},
      "source": [
        "4. \n"
      ],
      "id": "ca7c6b73"
    },
    {
      "cell_type": "markdown",
      "metadata": {},
      "source": [
        "# App #1: Top Location by Alert Type Dashboard (30 points){-}\n",
        "\n",
        "1. \n",
        "\n",
        "a. "
      ],
      "id": "4fb662a2"
    },
    {
      "cell_type": "markdown",
      "metadata": {},
      "source": [
        "b. "
      ],
      "id": "75dd8497"
    },
    {
      "cell_type": "markdown",
      "metadata": {},
      "source": [
        "c. "
      ],
      "id": "47a904cc"
    },
    {
      "cell_type": "markdown",
      "metadata": {},
      "source": [
        "d. "
      ],
      "id": "1f435f6a"
    },
    {
      "cell_type": "markdown",
      "metadata": {},
      "source": [
        "3. \n",
        "    \n",
        "a. \n"
      ],
      "id": "0d9d8038"
    },
    {
      "cell_type": "markdown",
      "metadata": {},
      "source": [
        "b. "
      ],
      "id": "408a60d9"
    },
    {
      "cell_type": "code",
      "metadata": {},
      "source": [
        "# MODIFY ACCORDINGLY\n",
        "file_path = \"./top_alerts_map/chicago-boundaries.geojson\"\n",
        "#----\n",
        "\n",
        "with open(file_path) as f:\n",
        "    chicago_geojson = json.load(f)\n",
        "\n",
        "geo_data = alt.Data(values=chicago_geojson[\"features\"])"
      ],
      "id": "90052b8c",
      "execution_count": null,
      "outputs": []
    },
    {
      "cell_type": "markdown",
      "metadata": {},
      "source": [
        "4. \n"
      ],
      "id": "b454ac52"
    },
    {
      "cell_type": "markdown",
      "metadata": {},
      "source": [
        "5. \n",
        "\n",
        "a. \n"
      ],
      "id": "212f9ec3"
    },
    {
      "cell_type": "markdown",
      "metadata": {},
      "source": [
        "b. "
      ],
      "id": "20499839"
    },
    {
      "cell_type": "markdown",
      "metadata": {},
      "source": [
        "c. "
      ],
      "id": "27921611"
    },
    {
      "cell_type": "markdown",
      "metadata": {},
      "source": [
        "d. "
      ],
      "id": "54cbd79d"
    },
    {
      "cell_type": "markdown",
      "metadata": {},
      "source": [
        "e. \n",
        "\n",
        "# App #2: Top Location by Alert Type and Hour Dashboard (20 points) {-}\n",
        "\n",
        "1. \n",
        "\n",
        "a. \n",
        "\n",
        "\n",
        "    \n",
        "b. "
      ],
      "id": "beb78eef"
    },
    {
      "cell_type": "markdown",
      "metadata": {},
      "source": [
        "c.\n"
      ],
      "id": "b3ffafae"
    },
    {
      "cell_type": "markdown",
      "metadata": {},
      "source": [
        "2.\n",
        "\n",
        "a. \n",
        "\n",
        "\n",
        "\n",
        "b. \n",
        "\n",
        "\n",
        "c. \n",
        "\n",
        "\n",
        "# App #3: Top Location by Alert Type and Hour Dashboard (20 points){-}\n",
        "\n",
        "1. \n",
        "\n",
        "\n",
        "a. \n",
        "\n",
        "b. \n"
      ],
      "id": "86f0ba1a"
    },
    {
      "cell_type": "markdown",
      "metadata": {},
      "source": [
        "2. \n",
        "\n",
        "a. \n",
        "\n",
        "\n",
        "b. \n",
        "    \n",
        "3. \n",
        "\n",
        "a. \n",
        "    \n",
        "\n",
        "b. \n",
        "\n",
        "\n",
        "c. \n",
        "\n",
        "\n",
        "d."
      ],
      "id": "490ea893"
    }
  ],
  "metadata": {
    "kernelspec": {
      "name": "python3",
      "language": "python",
      "display_name": "Python 3 (ipykernel)",
      "path": "/Users/saravanvalkenburgh/Library/Python/3.9/share/jupyter/kernels/python3"
    }
  },
  "nbformat": 4,
  "nbformat_minor": 5
}